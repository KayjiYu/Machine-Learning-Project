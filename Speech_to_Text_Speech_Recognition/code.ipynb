{
 "cells": [
  {
   "cell_type": "markdown",
   "id": "81e942f5",
   "metadata": {
    "lines_to_next_cell": 0
   },
   "source": [
    "## Import the Module"
   ]
  },
  {
   "cell_type": "code",
   "execution_count": null,
   "id": "18ecf1d8",
   "metadata": {},
   "outputs": [],
   "source": [
    "import speech_recognition as sr"
   ]
  },
  {
   "cell_type": "markdown",
   "id": "7446552d",
   "metadata": {
    "lines_to_next_cell": 0
   },
   "source": [
    "## Initialize"
   ]
  },
  {
   "cell_type": "code",
   "execution_count": null,
   "id": "28281f43",
   "metadata": {},
   "outputs": [],
   "source": [
    "r = sr.Recognizer()"
   ]
  },
  {
   "cell_type": "markdown",
   "id": "f5974c37",
   "metadata": {
    "lines_to_next_cell": 0
   },
   "source": [
    "## Convert Speech to Text in Real Time"
   ]
  },
  {
   "cell_type": "code",
   "execution_count": null,
   "id": "284675a0",
   "metadata": {},
   "outputs": [],
   "source": [
    "while True:\n",
    "    with sr.Microphone() as source:\n",
    "        # clear background noise\n",
    "        r.adjust_for_ambient_noise(source, duration=0.3)\n",
    "\n",
    "        print(\"Speak now\")\n",
    "        # capture the audio\n",
    "        audio = r.listen(source)\n",
    "\n",
    "        try:\n",
    "            text = r.recognize_google(audio)\n",
    "            print(\"Speaker:\", text)\n",
    "            if text == \"quit\":\n",
    "                break\n",
    "        except:\n",
    "            print('Please say again')"
   ]
  },
  {
   "cell_type": "markdown",
   "id": "1945532f",
   "metadata": {},
   "source": [
    "## Convert Audio to Text"
   ]
  },
  {
   "cell_type": "code",
   "execution_count": null,
   "id": "e0f942cc",
   "metadata": {
    "lines_to_next_cell": 0
   },
   "outputs": [],
   "source": [
    "with sr.AudioFile('test.wav') as source:\n",
    "    print(\"listening to audio\")\n",
    "    # capture the audio\n",
    "    audio = r.listen(source)\n",
    "\n",
    "    try: text = r.recognize_google(audio)\n",
    "        print(\"Audio\":, text)\n",
    "    except:\n",
    "        print(\"Error\")"
   ]
  },
  {
   "cell_type": "markdown",
   "id": "d0d5a25c",
   "metadata": {},
   "source": []
  }
 ],
 "metadata": {
  "kernelspec": {
   "display_name": "Python 3",
   "language": "python",
   "name": "python3"
  },
  "language_info": {
   "codemirror_mode": {
    "name": "ipython"
   },
   "file_extension": ".py",
   "mimetype": "text/x-python",
   "name": "python",
   "nbconvert_exporter": "python",
   "pygments_lexer": "ipython3"
  }
 },
 "nbformat": 4,
 "nbformat_minor": 5
}
