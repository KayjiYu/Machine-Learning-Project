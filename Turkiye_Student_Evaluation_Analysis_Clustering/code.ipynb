{
 "cells": [
  {
   "cell_type": "markdown",
   "id": "13816177",
   "metadata": {},
   "source": [
    "## Import Modules"
   ]
  },
  {
   "cell_type": "code",
   "execution_count": null,
   "id": "1587497e",
   "metadata": {},
   "outputs": [],
   "source": [
    "import pandas as pd\n",
    "import numpy as np\n",
    "import seaborn as sns\n",
    "import matplotlib.pyplot as plt\n",
    "pd.options.display.max_columns=50"
   ]
  },
  {
   "cell_type": "code",
   "execution_count": null,
   "id": "bd6a930d",
   "metadata": {},
   "outputs": [],
   "source": [
    "import os\n",
    "\n",
    "for dirname, _, filenames in os.walk(\".\"):\n",
    "    for filename in filenames:\n",
    "        print(os.path.join(dirname, filename))"
   ]
  },
  {
   "cell_type": "code",
   "execution_count": null,
   "id": "92c3e183",
   "metadata": {},
   "outputs": [],
   "source": [
    "df = pd.read_csv(\"turkiye-student-evaluation_generic.csv\")\n",
    "df.head()"
   ]
  },
  {
   "cell_type": "code",
   "execution_count": null,
   "id": "3a85bfcc",
   "metadata": {},
   "outputs": [],
   "source": [
    "# statistical info\n",
    "df.describe()"
   ]
  },
  {
   "cell_type": "code",
   "execution_count": null,
   "id": "5853f9ff",
   "metadata": {
    "lines_to_next_cell": 2
   },
   "outputs": [],
   "source": [
    "# datatype info\n",
    "df.info()"
   ]
  },
  {
   "cell_type": "markdown",
   "id": "5d089489",
   "metadata": {},
   "source": [
    "## Preprocessing the dataset"
   ]
  },
  {
   "cell_type": "code",
   "execution_count": null,
   "id": "06c5f351",
   "metadata": {},
   "outputs": [],
   "source": [
    "# check for null values\n",
    "df.isnull().sum()"
   ]
  },
  {
   "cell_type": "markdown",
   "id": "b5ebd7a3",
   "metadata": {},
   "source": [
    "## Exploratory Data Analysis"
   ]
  },
  {
   "cell_type": "code",
   "execution_count": null,
   "id": "9cc3ecbe",
   "metadata": {},
   "outputs": [],
   "source": [
    "# find mean of questions\n",
    "x_questions = df.iloc[:, 5:33]\n",
    "q_mean = x_questions.mean(axis=0)\n",
    "total_mean = q_mean.mean()"
   ]
  },
  {
   "cell_type": "code",
   "execution_count": null,
   "id": "8d78883e",
   "metadata": {},
   "outputs": [],
   "source": [
    "q_mean = q_mean.to_frame('mean')\n",
    "q_mean.reset_index(level=0, inplace=True)\n",
    "q_mean.head()"
   ]
  },
  {
   "cell_type": "code",
   "execution_count": null,
   "id": "bc426038",
   "metadata": {},
   "outputs": [],
   "source": [
    "total_mean"
   ]
  },
  {
   "cell_type": "code",
   "execution_count": null,
   "id": "f338f30a",
   "metadata": {
    "lines_to_next_cell": 0
   },
   "outputs": [],
   "source": [
    "plt.figure(figsize=(14, 7))\n",
    "sns.barplot(x='index', y='mean', data=q_mean)"
   ]
  },
  {
   "cell_type": "markdown",
   "id": "1e5fa960",
   "metadata": {},
   "source": [
    "## Correlation Matrix"
   ]
  },
  {
   "cell_type": "code",
   "execution_count": null,
   "id": "4f0d8e29",
   "metadata": {},
   "outputs": [],
   "source": [
    "corr = df.corr()\n",
    "plt.figure(figsize=(18, 18))\n",
    "sns.heatmap(corr, annot=True, cmap='coolwarm')"
   ]
  },
  {
   "cell_type": "markdown",
   "id": "25c2547c",
   "metadata": {},
   "source": [
    "## Principal component analysis"
   ]
  },
  {
   "cell_type": "code",
   "execution_count": null,
   "id": "06bcd39e",
   "metadata": {},
   "outputs": [],
   "source": [
    "X = df.iloc[:, 5:33]\n",
    "\n",
    "from sklearn.decomposition import PCA\n",
    "pca = PCA(n_components=2, random_state=42)\n",
    "X_pca = pca.fit_transform(X)\n",
    "\n",
    "X_pca"
   ]
  },
  {
   "cell_type": "code",
   "execution_count": null,
   "id": "2faec499",
   "metadata": {
    "lines_to_next_cell": 2
   },
   "outputs": [],
   "source": [
    "# How much info we retained from the dataset\n",
    "pca.explained_variance_ratio_.cumsum()[1]"
   ]
  },
  {
   "cell_type": "markdown",
   "id": "5f2f6c7b",
   "metadata": {},
   "source": [
    "## Model Training"
   ]
  },
  {
   "cell_type": "code",
   "execution_count": null,
   "id": "e503c53b",
   "metadata": {
    "lines_to_next_cell": 0
   },
   "outputs": [],
   "source": [
    "from sklearn.cluster import KMeans\n",
    "distortions = []\n",
    "cluster_range = range(1, 6)\n",
    "\n",
    "# elbow method\n",
    "for i in cluster_range:\n",
    "    model = KMeans(n_clusters=i, init='k-means++', random_state=42)\n",
    "    model.fit(X_pca)\n",
    "    distortions.append(model.inertia_)\n",
    "\n",
    "plt.plot(cluster_range, distortions, marker='o')\n",
    "plt.xlabel(\"Number of clusters\")\n",
    "plt.ylabel(\"Distortions\")\n",
    "plt.show()"
   ]
  },
  {
   "cell_type": "markdown",
   "id": "65d67297",
   "metadata": {},
   "source": [
    "\n"
   ]
  },
  {
   "cell_type": "code",
   "execution_count": null,
   "id": "12e9369e",
   "metadata": {},
   "outputs": [],
   "source": [
    "# use best cluster\n",
    "model = KMeans(n_clusters=3, init='k-means++', random_state=42)\n",
    "model.fit(X_pca)\n",
    "y = model.predict(X_pca)"
   ]
  },
  {
   "cell_type": "code",
   "execution_count": null,
   "id": "80cf998f",
   "metadata": {},
   "outputs": [],
   "source": [
    "plt.scatter(X_pca[y==0, 0], X_pca[y==0, 1], s=50, c='red', label='cluster 1')\n",
    "plt.scatter(X_pca[y==1, 0], X_pca[y==1, 1], s=50, c='yellow', label='cluster 2')\n",
    "plt.scatter(X_pca[y==2, 0], X_pca[y==2, 1], s=50, c='green', label='cluster 3')\n",
    "plt.scatter(model.cluster_centers_[:,0], model.cluster_centers_[:, 1], s=100, c='blue', label='centroids')\n",
    "plt.title('Cluster of students')\n",
    "plt.xlabel('PCA 1')\n",
    "plt.ylabel('PCA 2')\n",
    "plt.legend()\n",
    "plt.show()"
   ]
  },
  {
   "cell_type": "code",
   "execution_count": null,
   "id": "8c17f721",
   "metadata": {},
   "outputs": [],
   "source": [
    "from collections import Counter\n",
    "Counter(y)\n",
    "\n",
    "model = KMeans(n_clusters=3, init='k-means++', random_state=42)\n",
    "model.fit(X)\n",
    "y = model.predict(X)\n",
    "\n",
    "Counter(y)"
   ]
  },
  {
   "cell_type": "code",
   "execution_count": null,
   "id": "974e4806",
   "metadata": {},
   "outputs": [],
   "source": [
    "# dendrogram\n",
    "import scipy.cluster.hierarchy as hier\n",
    "dendogram = hier.dendrogram(hier.linkage(X_pca, method='ward'))\n",
    "plt.title('Dendrogram')\n",
    "plt.xlabel('Questions')\n",
    "plt.ylabel('Distance')\n",
    "plt.show()"
   ]
  },
  {
   "cell_type": "code",
   "execution_count": null,
   "id": "622cbea8",
   "metadata": {
    "lines_to_next_cell": 0
   },
   "outputs": [],
   "source": [
    "from sklearn.cluster import AgglomerativeClustering\n",
    "model = AgglomerativeClustering(n_clusters=2, linkage='ward')\n",
    "y = model.fit_predict(X_pca)\n",
    "\n",
    "plt.scatter(X_pca[y==0, 0], X_pca[y==0, 1], s=50, c='red', label='cluster 1')\n",
    "plt.scatter(X_pca[y==1, 0], X_pca[y==1, 1], s=50, c='yellow', label='cluster 2')\n",
    "plt.title('Cluster of students')\n",
    "plt.xlabel('PCA 1')\n",
    "plt.ylabel('PCA 2')\n",
    "plt.legend()\n",
    "plt.show()"
   ]
  },
  {
   "cell_type": "code",
   "execution_count": null,
   "id": "85b71f69",
   "metadata": {},
   "outputs": [],
   "source": [
    "Counter(y)"
   ]
  }
 ],
 "metadata": {
  "kernelspec": {
   "display_name": "Python 3",
   "language": "python",
   "name": "python3"
  },
  "language_info": {
   "codemirror_mode": {
    "name": "ipython"
   },
   "file_extension": ".py",
   "mimetype": "text/x-python",
   "name": "python",
   "nbconvert_exporter": "python",
   "pygments_lexer": "ipython3"
  }
 },
 "nbformat": 4,
 "nbformat_minor": 5
}
